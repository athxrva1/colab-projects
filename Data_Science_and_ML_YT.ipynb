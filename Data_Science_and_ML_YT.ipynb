{
  "nbformat": 4,
  "nbformat_minor": 0,
  "metadata": {
    "colab": {
      "name": "Data Science and ML YT.ipynb",
      "provenance": [],
      "collapsed_sections": [],
      "authorship_tag": "ABX9TyMdTGeryU7QbRucqSfGzipC",
      "include_colab_link": true
    },
    "kernelspec": {
      "name": "python3",
      "display_name": "Python 3"
    },
    "language_info": {
      "name": "python"
    }
  },
  "cells": [
    {
      "cell_type": "markdown",
      "metadata": {
        "id": "view-in-github",
        "colab_type": "text"
      },
      "source": [
        "<a href=\"https://colab.research.google.com/github/athxrva1/rick-roll1/blob/main/Data_Science_and_ML_YT.ipynb\" target=\"_parent\"><img src=\"https://colab.research.google.com/assets/colab-badge.svg\" alt=\"Open In Colab\"/></a>"
      ]
    },
    {
      "cell_type": "code",
      "execution_count": 2,
      "metadata": {
        "id": "TDqqtwubFOuj"
      },
      "outputs": [],
      "source": [
        "import math\n",
        "\n",
        "def loan_emi(amount : int, duration : int ,rate : float, down_payment = 0) -> float:\n",
        "    emi = ((amount - down_payment) * rate * ((1+rate)**duration)) / (((1+rate)**duration) - 1)\n",
        "    return math.ceil(float(str(emi).format()))"
      ]
    },
    {
      "cell_type": "code",
      "source": [
        "emi1 = loan_emi(1.26e6, 8 * 12, 0.1 / 12, 3.0e5)\n",
        "print(emi1)"
      ],
      "metadata": {
        "id": "N5iT_vAKGIeg",
        "colab": {
          "base_uri": "https://localhost:8080/"
        },
        "outputId": "ce400bea-119d-4214-c71d-091534b10d90"
      },
      "execution_count": 3,
      "outputs": [
        {
          "output_type": "stream",
          "name": "stdout",
          "text": [
            "14568\n"
          ]
        }
      ]
    },
    {
      "cell_type": "code",
      "source": [
        "emi2 = loan_emi(1.26e6, 10 * 12, 0.08 / 12)\n",
        "print(emi2)\n"
      ],
      "metadata": {
        "id": "hcZRDciWGTbC",
        "colab": {
          "base_uri": "https://localhost:8080/"
        },
        "outputId": "7b1ebef4-53bf-479c-b321-4b2a1d1e88dc"
      },
      "execution_count": 4,
      "outputs": [
        {
          "output_type": "stream",
          "name": "stdout",
          "text": [
            "15288\n"
          ]
        }
      ]
    },
    {
      "cell_type": "code",
      "source": [
        ""
      ],
      "metadata": {
        "id": "ogy7Gl8GLkKg"
      },
      "execution_count": 4,
      "outputs": []
    },
    {
      "cell_type": "markdown",
      "source": [
        "**Working with numerical data in python**"
      ],
      "metadata": {
        "id": "4rfNY9CVMJP1"
      }
    },
    {
      "cell_type": "code",
      "source": [
        "kanto = [70,62,35]\n",
        "weights = [0.3, 0.2, 0.4]"
      ],
      "metadata": {
        "id": "WjPDuyp-MQj-"
      },
      "execution_count": 5,
      "outputs": []
    },
    {
      "cell_type": "code",
      "source": [
        "def yielder(region, weights):\n",
        "    result = 0\n",
        "    for x, w in zip(region, weights): #Makes tuples out of the given values\n",
        "        result += x * w\n",
        "    return result"
      ],
      "metadata": {
        "id": "6csN4WCcM1_g"
      },
      "execution_count": 6,
      "outputs": []
    },
    {
      "cell_type": "code",
      "source": [
        "print(yielder(kanto,weights))"
      ],
      "metadata": {
        "colab": {
          "base_uri": "https://localhost:8080/"
        },
        "id": "diUo7GlwNED1",
        "outputId": "ef5ed1f6-918b-4318-b20e-c48d3306f3d0"
      },
      "execution_count": 7,
      "outputs": [
        {
          "output_type": "stream",
          "name": "stdout",
          "text": [
            "47.4\n"
          ]
        }
      ]
    },
    {
      "cell_type": "markdown",
      "source": [
        "**NUMPY**"
      ],
      "metadata": {
        "id": "zCzEKEhZNhlI"
      }
    },
    {
      "cell_type": "code",
      "source": [
        "import numpy as np\n",
        "kanto = np.array([70,62,35])\n",
        "weights = np.array([0.3,0.2,0.4])"
      ],
      "metadata": {
        "id": "0_UVGa9nNH04"
      },
      "execution_count": 8,
      "outputs": []
    },
    {
      "cell_type": "code",
      "source": [
        "print(kanto)\n",
        "print(weights)\n",
        "print(type(kanto))"
      ],
      "metadata": {
        "colab": {
          "base_uri": "https://localhost:8080/"
        },
        "id": "eEO-cc7WNqw_",
        "outputId": "c1f77f8d-4a8a-46c6-c495-b37221780e0b"
      },
      "execution_count": 9,
      "outputs": [
        {
          "output_type": "stream",
          "name": "stdout",
          "text": [
            "[70 62 35]\n",
            "[0.3 0.2 0.4]\n",
            "<class 'numpy.ndarray'>\n"
          ]
        }
      ]
    },
    {
      "cell_type": "code",
      "source": [
        "result = np.dot(kanto, weights)\n",
        "print(result)"
      ],
      "metadata": {
        "colab": {
          "base_uri": "https://localhost:8080/"
        },
        "id": "OnDiy3K2NrXY",
        "outputId": "dbab3292-70c7-449d-aa09-4723c673c823"
      },
      "execution_count": 10,
      "outputs": [
        {
          "output_type": "stream",
          "name": "stdout",
          "text": [
            "47.4\n"
          ]
        }
      ]
    },
    {
      "cell_type": "code",
      "source": [
        "result = (kanto * weights).sum()\n",
        "print(result)"
      ],
      "metadata": {
        "colab": {
          "base_uri": "https://localhost:8080/"
        },
        "id": "3YARfquZOOOn",
        "outputId": "0b4e8457-85c5-40ef-fc21-f1768deeeff6"
      },
      "execution_count": 11,
      "outputs": [
        {
          "output_type": "stream",
          "name": "stdout",
          "text": [
            "47.4\n"
          ]
        }
      ]
    },
    {
      "cell_type": "code",
      "source": [
        "climate_data = np.array([\n",
        "    [1,2,3],\n",
        "    [4,5,6],\n",
        "    [7,8,9]])"
      ],
      "metadata": {
        "id": "dqPxLgsuOP_5"
      },
      "execution_count": 12,
      "outputs": []
    },
    {
      "cell_type": "code",
      "source": [
        "result = np.matmul(climate_data, weights)"
      ],
      "metadata": {
        "id": "rUDoLKTdWylW"
      },
      "execution_count": 13,
      "outputs": []
    },
    {
      "cell_type": "code",
      "source": [
        "print(result)"
      ],
      "metadata": {
        "colab": {
          "base_uri": "https://localhost:8080/"
        },
        "id": "cWjNmYF6W0QC",
        "outputId": "bd562a38-149d-4d8b-f941-de5d7fae55ab"
      },
      "execution_count": 14,
      "outputs": [
        {
          "output_type": "stream",
          "name": "stdout",
          "text": [
            "[1.9 4.6 7.3]\n"
          ]
        }
      ]
    },
    {
      "cell_type": "code",
      "source": [
        "print(climate_data @ weights)"
      ],
      "metadata": {
        "colab": {
          "base_uri": "https://localhost:8080/"
        },
        "id": "NBc2KNGsXpqU",
        "outputId": "b7f9ff5b-662f-4ee3-898a-043f381a2fed"
      },
      "execution_count": 15,
      "outputs": [
        {
          "output_type": "stream",
          "name": "stdout",
          "text": [
            "[1.9 4.6 7.3]\n"
          ]
        }
      ]
    },
    {
      "cell_type": "markdown",
      "source": [
        "## **Importing files from URLS**\n"
      ],
      "metadata": {
        "id": "LjJSVpFkYXHR"
      }
    },
    {
      "cell_type": "code",
      "source": [
        "import urllib.request\n",
        "\n",
        "urllib.request.urlretrieve(\n",
        "    'https://gist.github.com/BirajCoder/a4ffcb76fd6fb221d76ac2ee2b8584e9/raw/4054f90adfd361b7aa4255e99c2e874664094cea/climate.csv', \n",
        "    'climate.txt')"
      ],
      "metadata": {
        "colab": {
          "base_uri": "https://localhost:8080/"
        },
        "id": "bvHcKpFdX3vk",
        "outputId": "06a8080e-1fb1-400d-8551-e3e051c6fc5d"
      },
      "execution_count": 16,
      "outputs": [
        {
          "output_type": "execute_result",
          "data": {
            "text/plain": [
              "('climate.txt', <http.client.HTTPMessage at 0x7fdbd5bb00d0>)"
            ]
          },
          "metadata": {},
          "execution_count": 16
        }
      ]
    },
    {
      "cell_type": "code",
      "source": [
        "climate_data = np.genfromtxt('climate.txt', delimiter=',', skip_header = 1)"
      ],
      "metadata": {
        "id": "9ZkCskXyYkXe"
      },
      "execution_count": 17,
      "outputs": []
    },
    {
      "cell_type": "code",
      "source": [
        "climate_data"
      ],
      "metadata": {
        "colab": {
          "base_uri": "https://localhost:8080/"
        },
        "id": "tNd8sfKxY-X1",
        "outputId": "dab9ad33-c64a-4df4-ff5c-85ac310d6079"
      },
      "execution_count": 18,
      "outputs": [
        {
          "output_type": "execute_result",
          "data": {
            "text/plain": [
              "array([[25., 76., 99.],\n",
              "       [39., 65., 70.],\n",
              "       [59., 45., 77.],\n",
              "       ...,\n",
              "       [99., 62., 58.],\n",
              "       [70., 71., 91.],\n",
              "       [92., 39., 76.]])"
            ]
          },
          "metadata": {},
          "execution_count": 18
        }
      ]
    },
    {
      "cell_type": "code",
      "source": [
        "yields = climate_data @ weights"
      ],
      "metadata": {
        "id": "wCQjtM8iZAaG"
      },
      "execution_count": 19,
      "outputs": []
    },
    {
      "cell_type": "code",
      "source": [
        "print(yields)"
      ],
      "metadata": {
        "colab": {
          "base_uri": "https://localhost:8080/"
        },
        "id": "4doupGBxZhKq",
        "outputId": "6da4fc0c-70ca-477f-dc36-bb5b29645827"
      },
      "execution_count": 20,
      "outputs": [
        {
          "output_type": "stream",
          "name": "stdout",
          "text": [
            "[62.3 52.7 57.5 ... 65.3 71.6 65.8]\n"
          ]
        }
      ]
    },
    {
      "cell_type": "code",
      "source": [
        "climate_results = np.concatenate((climate_data, yields.reshape(10000,1)), axis = 1)"
      ],
      "metadata": {
        "id": "m6hqZ6DxZjIj"
      },
      "execution_count": 21,
      "outputs": []
    },
    {
      "cell_type": "code",
      "source": [
        "climate_results"
      ],
      "metadata": {
        "colab": {
          "base_uri": "https://localhost:8080/"
        },
        "id": "uEW1dPthdE3o",
        "outputId": "b2c61683-0a2b-442f-a031-7b1838e2062e"
      },
      "execution_count": 22,
      "outputs": [
        {
          "output_type": "execute_result",
          "data": {
            "text/plain": [
              "array([[25. , 76. , 99. , 62.3],\n",
              "       [39. , 65. , 70. , 52.7],\n",
              "       [59. , 45. , 77. , 57.5],\n",
              "       ...,\n",
              "       [99. , 62. , 58. , 65.3],\n",
              "       [70. , 71. , 91. , 71.6],\n",
              "       [92. , 39. , 76. , 65.8]])"
            ]
          },
          "metadata": {},
          "execution_count": 22
        }
      ]
    },
    {
      "cell_type": "code",
      "source": [
        "np.savetxt('climate_results.txt', climate_results, fmt = '%.2f', header = 'temperature,rainfall,humidity,yield_apples',comments = '')"
      ],
      "metadata": {
        "id": "bqqoYRlMdTox"
      },
      "execution_count": 23,
      "outputs": []
    },
    {
      "cell_type": "code",
      "source": [
        "arr1 = np.array([\n",
        "    [1,2,3],\n",
        "    [4,5,6],\n",
        "    [7,8,9]])"
      ],
      "metadata": {
        "id": "gAoVRBQ9p6nr"
      },
      "execution_count": 29,
      "outputs": []
    },
    {
      "cell_type": "code",
      "source": [
        "arr1 += arr1"
      ],
      "metadata": {
        "id": "WP0UXtj9r2Yc"
      },
      "execution_count": 30,
      "outputs": []
    },
    {
      "cell_type": "code",
      "source": [
        "print(arr1)"
      ],
      "metadata": {
        "colab": {
          "base_uri": "https://localhost:8080/"
        },
        "id": "8ppQdjetr4tg",
        "outputId": "c0f60008-c5bf-4ccd-b4d2-c2587634ed3c"
      },
      "execution_count": 31,
      "outputs": [
        {
          "output_type": "stream",
          "name": "stdout",
          "text": [
            "[[ 2  4  6]\n",
            " [ 8 10 12]\n",
            " [14 16 18]]\n"
          ]
        }
      ]
    },
    {
      "cell_type": "code",
      "source": [
        "arr3 = np.array([\n",
        "    [[11, 12, 13, 14], \n",
        "     [13, 14, 15, 19]], \n",
        "    \n",
        "    [[15, 16, 17, 21], \n",
        "     [63, 92, 36, 18]], \n",
        "    \n",
        "    [[98, 32, 81, 23],      \n",
        "     [17, 18, 19.5, 43]]])"
      ],
      "metadata": {
        "id": "9EsBJfeSr55F"
      },
      "execution_count": 32,
      "outputs": []
    },
    {
      "cell_type": "code",
      "source": [
        "print(arr3[1,1,1])"
      ],
      "metadata": {
        "colab": {
          "base_uri": "https://localhost:8080/"
        },
        "id": "VLEDnEbttXR7",
        "outputId": "4814ae17-0518-4bd0-c56a-94f301feeac3"
      },
      "execution_count": 33,
      "outputs": [
        {
          "output_type": "stream",
          "name": "stdout",
          "text": [
            "92.0\n"
          ]
        }
      ]
    },
    {
      "cell_type": "code",
      "source": [
        "print(sum(arr3[1:,0:1,2:]))"
      ],
      "metadata": {
        "colab": {
          "base_uri": "https://localhost:8080/"
        },
        "id": "R6ajYuFstaWH",
        "outputId": "08fc0a64-81ef-46dd-cd25-a89ce55da053"
      },
      "execution_count": 36,
      "outputs": [
        {
          "output_type": "stream",
          "name": "stdout",
          "text": [
            "[[98. 44.]]\n"
          ]
        }
      ]
    },
    {
      "cell_type": "code",
      "source": [
        ""
      ],
      "metadata": {
        "id": "uPB0PviitirW"
      },
      "execution_count": null,
      "outputs": []
    }
  ]
}